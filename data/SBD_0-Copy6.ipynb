{
 "cells": [
  {
   "cell_type": "code",
   "execution_count": 3,
   "metadata": {},
   "outputs": [
    {
     "name": "stdout",
     "output_type": "stream",
     "text": [
      "On record: 46235 \r"
     ]
    }
   ],
   "source": [
    "import os\n",
    "import sys\n",
    "import glob\n",
    "import time\n",
    "import numpy as np\n",
    "import pandas as pd\n",
    "import csv\n",
    "\n",
    "input_file = 'RR_Pared_All_Active_2018-07-09_6.csv'\n",
    "sbd_file = 'RR_Pared_All_Active_SBD_2018-07-09_6.csv'\n",
    "\n",
    "#Prod \n",
    "raw_reviews = pd.read_csv(input_file)\n",
    "#Dev:\n",
    "#raw_reviews = pd.read_csv('RR_Pared_All_Active_Dev.csv')\n",
    "# Errors:\n",
    "#raw_reviews = pd.read_csv('Error_Records.csv')\n",
    "#raw_reviews = pd.read_csv('Error_Records_2.csv')\n",
    "\n",
    "# Prod\n",
    "#with open('Review_sentences_All_Active_2018-07-09.csv','w') as csvfile:\n",
    "# Dev\n",
    "with open(sbd_file,'w') as csvfile:\n",
    "    fieldnames=['SENTENCE_ID','SENTENCE','TESTIMONIAL_ID']\n",
    "    writer=csv.writer(csvfile)\n",
    "    writer.writerow(fieldnames)\n",
    "csvfile.close()\n",
    "\n",
    "for index, row in raw_reviews.iterrows():\n",
    "    if type(row['TESTIMONIAL']) is str:\n",
    "        #clear_output()\n",
    "        print(\"On record: {} \".format(index), end=\"\\r\")\n",
    "        f = open('../splitta.1.03-Py3/testimonial_6.txt','w+')\n",
    "        f.write(row['TESTIMONIAL'])\n",
    "        f.close()\n",
    "        !! ../splitta.1.03-Py3/script_sbd_6\n",
    "        sbd_review = pd.read_table('../splitta.1.03-Py3/testimonial_output_6.txt', engine='python', \\\n",
    "                                   quoting=csv.QUOTE_NONE, header=None, names=['TESTIMONIAL'])\n",
    "        sbd_review['TESTIMONIALID'] = (row['TESTIMONIALID'])\n",
    "# Prod        \n",
    "        sbd_review.to_csv(sbd_file,mode='a', header=False)\n",
    "# Dev\n",
    "#        sbd_review.to_csv(\"Review_sentences_Dev_Active_2018-07-09.csv\",mode='a', header=False)"
   ]
  },
  {
   "cell_type": "code",
   "execution_count": null,
   "metadata": {},
   "outputs": [],
   "source": []
  }
 ],
 "metadata": {
  "kernelspec": {
   "display_name": "Python 3",
   "language": "python",
   "name": "python3"
  },
  "language_info": {
   "codemirror_mode": {
    "name": "ipython",
    "version": 3
   },
   "file_extension": ".py",
   "mimetype": "text/x-python",
   "name": "python",
   "nbconvert_exporter": "python",
   "pygments_lexer": "ipython3",
   "version": "3.6.4"
  }
 },
 "nbformat": 4,
 "nbformat_minor": 2
}
