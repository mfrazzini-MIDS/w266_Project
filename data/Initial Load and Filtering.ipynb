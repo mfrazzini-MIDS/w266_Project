{
 "cells": [
  {
   "cell_type": "code",
   "execution_count": 2,
   "metadata": {},
   "outputs": [
    {
     "data": {
      "text/plain": [
       "(369888, 8)"
      ]
     },
     "execution_count": 2,
     "metadata": {},
     "output_type": "execute_result"
    }
   ],
   "source": [
    "import glob\n",
    "import time\n",
    "import pandas as pd\n",
    "\n",
    "full_reviews_dump = pd.read_csv('RRDump_All_Active_2018-07-09T16_23_17.csv', encoding='utf-8')\n",
    "\n",
    "pared_reviews = full_reviews_dump[['MODELID','TESTIMONIALID','TESTIMONIAL', \\\n",
    "    'OVERALL','ORGANIZATION','APPEARANCE','PRICE_VALUE','DURABILITY']] \\\n",
    "    [(len(full_reviews_dump['TESTIMONIAL']) >= 1) & \\\n",
    "     ((full_reviews_dump['OVERALL'] >= 1) | \\\n",
    "     (full_reviews_dump['ORGANIZATION'] >= 1) | \\\n",
    "     (full_reviews_dump['APPEARANCE'] >= 1) | \\\n",
    "     (full_reviews_dump['PRICE_VALUE'] >= 1) | \\\n",
    "     (full_reviews_dump['DURABILITY'] >= 1))].drop_duplicates()\n",
    "\n",
    "pared_reviews.shape"
   ]
  },
  {
   "cell_type": "code",
   "execution_count": 3,
   "metadata": {},
   "outputs": [
    {
     "data": {
      "text/plain": [
       "[None, None, None, None, None, None, None, None]"
      ]
     },
     "execution_count": 3,
     "metadata": {},
     "output_type": "execute_result"
    }
   ],
   "source": [
    "import numpy as np\n",
    "# Chunk output for multi-processing of Sentence Boundary Detection\n",
    "number_of_chunks = 8\n",
    "[df_i.to_csv('RR_Pared_All_Active_2018-07-09_{id}.csv'.format(id=id), index=False) for id, df_i in  enumerate(np.array_split(pared_reviews, number_of_chunks))]\n",
    "#pared_reviews.to_csv(\"RR_Pared_All_Active_2018-07-09.csv\", index=False)"
   ]
  },
  {
   "cell_type": "code",
   "execution_count": null,
   "metadata": {},
   "outputs": [],
   "source": []
  }
 ],
 "metadata": {
  "kernelspec": {
   "display_name": "Python 3",
   "language": "python",
   "name": "python3"
  },
  "language_info": {
   "codemirror_mode": {
    "name": "ipython",
    "version": 3
   },
   "file_extension": ".py",
   "mimetype": "text/x-python",
   "name": "python",
   "nbconvert_exporter": "python",
   "pygments_lexer": "ipython3",
   "version": "3.6.4"
  }
 },
 "nbformat": 4,
 "nbformat_minor": 2
}
